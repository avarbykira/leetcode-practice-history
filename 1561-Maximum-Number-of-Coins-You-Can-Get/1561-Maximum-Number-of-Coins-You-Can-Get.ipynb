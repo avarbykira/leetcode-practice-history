{
 "cells": [
  {
   "cell_type": "markdown",
   "metadata": {},
   "source": [
    "# 1561. Maximum Number of Coins You Can Get ([Problem Link](https://leetcode.com/problems/maximum-number-of-coins-you-can-get/))\n",
    "\n",
    "There are `3n` piles of coins of varying size, you and your friends will take piles of coins as follows:\n",
    "\n",
    "*   In each step, you will choose **any** `3` piles of coins (not necessarily consecutive).\n",
    "*   Of your choice, Alice will pick the pile with the maximum number of coins.\n",
    "*   You will pick the next pile with the maximum number of coins.\n",
    "*   Your friend Bob will pick the last pile.\n",
    "*   Repeat until there are no more piles of coins.\n",
    "\n",
    "Given an array of integers `piles` where `piles[i]` is the number of coins in the `ith` pile.\n",
    "\n",
    "Return the maximum number of coins that you can have.\n",
    "\n",
    "**Example 1:**\n",
    "\n",
    "**Input:** piles = \\[2,4,1,2,7,8\\]\n",
    "**Output:** 9\n",
    "**Explanation:** Choose the triplet (2, 7, 8), Alice Pick the pile with 8 coins, you the pile with **7** coins and Bob the last one.\n",
    "Choose the triplet (1, 2, 4), Alice Pick the pile with 4 coins, you the pile with **2** coins and Bob the last one.\n",
    "The maximum number of coins which you can have are: 7 + 2 = 9.\n",
    "On the other hand if we choose this arrangement (1, **2**, 8), (2, **4**, 7) you only get 2 + 4 = 6 coins which is not optimal.\n",
    "\n",
    "**Example 2:**\n",
    "\n",
    "**Input:** piles = \\[2,4,5\\]\n",
    "**Output:** 4\n",
    "\n",
    "**Example 3:**\n",
    "\n",
    "**Input:** piles = \\[9,8,7,6,5,1,2,3,4\\]\n",
    "**Output:** 18\n",
    "\n",
    "**Constraints:**\n",
    "\n",
    "*   `3 <= piles.length <= 105`\n",
    "*   `piles.length % 3 == 0`\n",
    "*   `1 <= piles[i] <= 104`\n",
    "\n",
    "## Info\n",
    "\n",
    "- Date: 2023/11/24\n",
    "- Difficulty: Medium\n",
    "- Streaks: day 4"
   ]
  },
  {
   "cell_type": "code",
   "execution_count": 2,
   "id": "initial_id",
   "metadata": {
    "collapsed": true,
    "is_executing": true
   },
   "outputs": [],
   "source": [
    "class Solution(object):\n",
    "    def maxCoins(self, piles):\n",
    "        \"\"\"\n",
    "        :type piles: List[int]\n",
    "        :rtype: int\n",
    "        \"\"\"\n",
    "        l = len(piles)\n",
    "        \n",
    "        piles.sort()\n",
    "        \n",
    "        num = 0\n",
    "        for i in range(0, l/3):\n",
    "            num += piles[l/3 + 2*i]\n",
    "\n",
    "        return num"
   ]
  },
  {
   "cell_type": "markdown",
   "metadata": {},
   "source": [
    "Submitted successfully. This is truly just a math problem. \n",
    "\n",
    "## Overview\n",
    "\n",
    "- Always thinking about sorting. This is the easiest way to simplify the problem, and this can give you ideas that can turning one problem into an existing problem."
   ]
  }
 ],
 "metadata": {
  "kernelspec": {
   "display_name": "Python 3",
   "language": "python",
   "name": "python3"
  },
  "language_info": {
   "codemirror_mode": {
    "name": "ipython",
    "version": 3
   },
   "file_extension": ".py",
   "mimetype": "text/x-python",
   "name": "python",
   "nbconvert_exporter": "python",
   "pygments_lexer": "ipython3",
   "version": "3.9.13"
  }
 },
 "nbformat": 4,
 "nbformat_minor": 5
}
