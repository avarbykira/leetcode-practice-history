{
 "cells": [
  {
   "cell_type": "markdown",
   "metadata": {},
   "source": [
    "# 1814. Count Nice Pairs in an Array\n",
    "\n",
    "You are given an array `nums` that consists of non-negative integers. Let us define `rev(x)` as the reverse of the non-negative integer `x`. For example, `rev(123) = 321`, and `rev(120) = 21`. A pair of indices `(i, j)` is **nice** if it satisfies all of the following conditions:\n",
    "\n",
    "*   `0 <= i < j < nums.length`\n",
    "*   `nums[i] + rev(nums[j]) == nums[j] + rev(nums[i])`\n",
    "\n",
    "Return _the number of nice pairs of indices_. Since that number can be too large, return it **modulo** `109 + 7`.\n",
    "\n",
    "**Example 1:**\n",
    "\n",
    "**Input:** nums = \\[42,11,1,97\\]\n",
    "\n",
    "**Output:** 2\n",
    "\n",
    "**Explanation:** The two pairs are:\n",
    " - (0,3) : 42 + rev(97) = 42 + 79 = 121, 97 + rev(42) = 97 + 24 = 121.\n",
    " - (1,2) : 11 + rev(1) = 11 + 1 = 12, 1 + rev(11) = 1 + 11 = 12.\n",
    "\n",
    "**Example 2:**\n",
    "\n",
    "**Input:** nums = \\[13,10,35,24,76\\]\n",
    "\n",
    "**Output:** 4\n",
    "\n",
    "**Constraints:**\n",
    "\n",
    "*   `1 <= nums.length <= 105`\n",
    "*   `0 <= nums[i] <= 109`"
   ]
  },
  {
   "cell_type": "markdown",
   "metadata": {},
   "source": [
    "## Info\n",
    "\n",
    "- Link: https://leetcode.com/problems/count-nice-pairs-in-an-array/\n",
    "- Difficulty: Medium\n",
    "- Date: 2023/11/21\n",
    "- 100 Days of DSA: Day 1"
   ]
  },
  {
   "cell_type": "markdown",
   "metadata": {},
   "source": [
    "## First Approach: Brute Force"
   ]
  },
  {
   "cell_type": "code",
   "execution_count": 1,
   "metadata": {},
   "outputs": [],
   "source": [
    "class Solution_First(object):\n",
    "    def rev(self, num):\n",
    "        string = str(num)\n",
    "        string = string[::-1]\n",
    "        return int(string)\n",
    "    \n",
    "    def checkPair(self, num1, num2):\n",
    "        return (num1 + self.rev(num2)) == (num2 + self.rev(num1))\n",
    "\n",
    "    def countNicePairs(self, nums):\n",
    "        count = 0\n",
    "        length = len(nums)\n",
    "        for i in range(length):\n",
    "            for j in range(i+1, length):\n",
    "                if self.checkPair(nums[i], nums[j]):\n",
    "                    count += 1\n",
    "\n",
    "        return count"
   ]
  },
  {
   "cell_type": "markdown",
   "metadata": {},
   "source": [
    "outcome: Time Limit Exceeded\n",
    "\n",
    "Numbers in test cases were too big. The test `nums` also has too many elements."
   ]
  },
  {
   "cell_type": "markdown",
   "metadata": {},
   "source": [
    "## Hints\n",
    "\n",
    "Hint 1: The condition can be rearranged to (nums[i] - rev(nums[i])) == (nums[j] - rev(nums[j])).\n",
    "Hint 2: Transform each nums[i] into (nums[i] - rev(nums[i])). Then, count the number of (i, j) pairs that have equal values."
   ]
  },
  {
   "cell_type": "markdown",
   "metadata": {},
   "source": [
    "## Second Try\n",
    "\n",
    "Use a new array to record `nums[i] - rev(nums[i]`, but did not improve the main loop. Time complexity is still $O(n^2)$"
   ]
  },
  {
   "cell_type": "code",
   "execution_count": 2,
   "metadata": {},
   "outputs": [],
   "source": [
    "class Solution(object):\n",
    "    def rev(self, num):\n",
    "        string = str(num)\n",
    "        string = string[::-1]\n",
    "        return int(string)\n",
    "\n",
    "    def countNicePairs(self, nums):\n",
    "        numsNew = []\n",
    "        for num in nums:\n",
    "            numsNew.append(num - self.rev(num))\n",
    "        \n",
    "        count = 0\n",
    "        length = len(numsNew)\n",
    "        for i in range(length): # This loop can be improved\n",
    "            for j in range(i+1, length):\n",
    "                if numsNew[i] == numsNew[j]:\n",
    "                    count += 1\n",
    "        return count"
   ]
  },
  {
   "cell_type": "markdown",
   "metadata": {},
   "source": [
    "outcome: Time Limit Exceeded"
   ]
  },
  {
   "cell_type": "markdown",
   "metadata": {},
   "source": [
    "## Another Hint\n",
    "\n",
    "Hint 3: Keep a map storing the frequencies of values that you have seen so far. For each i, check if nums[i] is in the map. If it is, then add that count to the overall count. Then, increment the frequency of nums[i]."
   ]
  },
  {
   "cell_type": "markdown",
   "metadata": {},
   "source": [
    "## Third Try\n",
    "\n",
    "I was trying to eliminate the nested loop here. First I wrote this:"
   ]
  },
  {
   "cell_type": "code",
   "execution_count": 3,
   "metadata": {},
   "outputs": [],
   "source": [
    "def countNicePairs(self, nums):\n",
    "    numsNew = []\n",
    "    for num in nums:\n",
    "        numsNew.append(num - self.rev(num))\n",
    "\n",
    "    memory = []\n",
    "    for num in numsNew:\n",
    "        memory[num] += 1    # here is the problem, the num here can be very big and the memory array will be out of range\n",
    "\n",
    "    count = 0\n",
    "    for i in range(len(memory)):\n",
    "        count += (memory[i] * (memory[i]-1)) / 2\n",
    "\n",
    "    return count"
   ]
  },
  {
   "cell_type": "markdown",
   "metadata": {},
   "source": [
    "Then I found it told me to use `map`. After searching for some tutorials and asking Copilot Chat, I found it was saying to use a dictionary.\n",
    "\n",
    "The dictionary in python can automatically handle the searching problem.\n",
    "\n",
    "So I changed my code to this:"
   ]
  },
  {
   "cell_type": "code",
   "execution_count": 4,
   "metadata": {},
   "outputs": [],
   "source": [
    "def countNicePairs(self, nums):\n",
    "        numsNew = [num - self.rev(num) for num in nums]\n",
    "        \n",
    "        # use a dictioinary to record if the num has occurred\n",
    "        memory = {}\n",
    "        count = 0\n",
    "        for num in numsNew:\n",
    "            if num in memory:\n",
    "                count += memory[num]\n",
    "            memory[num] = memory.get(num, 0) + 1\n",
    "\n",
    "        return count"
   ]
  },
  {
   "cell_type": "markdown",
   "metadata": {},
   "source": [
    "This almost solved the problem, but when handling the test case that has only `1` in it, it returned a very big number. \n",
    "\n",
    "Then after spending some time on debugging, I found this\n",
    "\n",
    "> Since that number can be too large, return it **modulo** `109 + 7`.\n",
    "\n",
    "So I changed the code to this:"
   ]
  },
  {
   "cell_type": "code",
   "execution_count": 5,
   "metadata": {},
   "outputs": [],
   "source": [
    "def countNicePairs(self, nums):\n",
    "        numsNew = [num - self.rev(num) for num in nums]\n",
    "        \n",
    "        # use a dictioinary to record if the num has occurred\n",
    "        memory = {}\n",
    "        count = 0\n",
    "        for num in numsNew:\n",
    "            if num in memory:\n",
    "                count += memory[num]\n",
    "            memory[num] = memory.get(num, 0) + 1\n",
    "\n",
    "        return count % (10**9 + 7)"
   ]
  },
  {
   "cell_type": "markdown",
   "metadata": {},
   "source": [
    "And everything works well this time. I have passed all the tests.\n",
    "\n",
    "## Final Code"
   ]
  },
  {
   "cell_type": "code",
   "execution_count": 6,
   "metadata": {},
   "outputs": [],
   "source": [
    "class Solution(object):\n",
    "    def rev(self, num):\n",
    "        string = str(num)\n",
    "        string = string[::-1]\n",
    "        return int(string)\n",
    "\n",
    "    def countNicePairs(self, nums):\n",
    "        numsNew = [num - self.rev(num) for num in nums]\n",
    "        \n",
    "        # use a dictioinary to record if the num has occurred\n",
    "        memory = {}\n",
    "        count = 0\n",
    "        for num in numsNew:\n",
    "            if num in memory:\n",
    "                count += memory[num]\n",
    "            memory[num] = memory.get(num, 0) + 1\n",
    "\n",
    "        return count % (10**9 + 7)"
   ]
  },
  {
   "cell_type": "markdown",
   "metadata": {},
   "source": [
    "## My Thoughts\n",
    "\n",
    "- Need to be familiar with language's feature. If I knew the dictionary I would spent less time on this.\n",
    "- One timeless idea is always thinking about using extra spaces for less time. Think about this rule when seeing any problems.\n",
    "- Read the problem carefully!"
   ]
  }
 ],
 "metadata": {
  "kernelspec": {
   "display_name": "Python 3",
   "language": "python",
   "name": "python3"
  },
  "language_info": {
   "codemirror_mode": {
    "name": "ipython",
    "version": 3
   },
   "file_extension": ".py",
   "mimetype": "text/x-python",
   "name": "python",
   "nbconvert_exporter": "python",
   "pygments_lexer": "ipython3",
   "version": "3.9.13"
  }
 },
 "nbformat": 4,
 "nbformat_minor": 2
}
