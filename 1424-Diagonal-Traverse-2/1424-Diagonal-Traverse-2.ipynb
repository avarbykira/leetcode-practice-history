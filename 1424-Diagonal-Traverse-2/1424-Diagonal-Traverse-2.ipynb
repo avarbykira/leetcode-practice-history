{
 "cells": [
  {
   "cell_type": "markdown",
   "metadata": {},
   "source": [
    "# 1424-Diagonal-Traverse-2\n",
    "\n",
    "Given a 2D integer array `nums`, return _all elements of_ `nums` _in diagonal order as shown in the below images_.\n",
    "\n",
    "**Example 1:**\n",
    "\n",
    "![](https://assets.leetcode.com/uploads/2020/04/08/sample_1_1784.png)\n",
    "\n",
    "**Input:** nums = \\[\\[1,2,3\\],\\[4,5,6\\],\\[7,8,9\\]\\]\n",
    "**Output:** \\[1,4,2,7,5,3,8,6,9\\]\n",
    "\n",
    "**Example 2:**\n",
    "\n",
    "![](https://assets.leetcode.com/uploads/2020/04/08/sample_2_1784.png)\n",
    "\n",
    "**Input:** nums = \\[\\[1,2,3,4,5\\],\\[6,7\\],\\[8\\],\\[9,10,11\\],\\[12,13,14,15,16\\]\\]\n",
    "**Output:** \\[1,6,2,8,7,3,9,4,12,10,5,13,11,14,15,16\\]\n",
    "\n",
    "**Constraints:**\n",
    "\n",
    "*   `1 <= nums.length <= 105`\n",
    "*   `1 <= nums[i].length <= 105`\n",
    "*   `1 <= sum(nums[i].length) <= 105`\n",
    "*   `1 <= nums[i][j] <= 105`"
   ]
  },
  {
   "cell_type": "markdown",
   "metadata": {},
   "source": [
    "## Info\n",
    "\n",
    "- Link: https://leetcode.com/problems/diagonal-traverse-ii\n",
    "- Date: 2023/11/22\n",
    "- Difficulty: Medium"
   ]
  },
  {
   "cell_type": "markdown",
   "metadata": {},
   "source": [
    "## First Try\n",
    "\n",
    "Q: Will it be a $n*n$ matrix? Or can it be a $n*m$ matrix?\n",
    "\n",
    "Let's assume it is a $n*n$ matrix.\n",
    "\n",
    "First diagonal is [0,0], then [[1,0], [0,1]], then [[2,0], [1,1], [0,2]]...\n",
    "\n",
    "The sum of two coordinate is equal to the index of this turn.\n",
    "\n",
    "so:\n",
    "\n",
    "```python\n",
    "listFinal = []\n",
    "for turn in range(0, len(nums)):\n",
    "    for y in range(0, turn):\n",
    "        x = turn - y\n",
    "        listFinal.append(listNew[x][y])\n",
    "```\n",
    "\n",
    "The upper half matrix is done. Now for the lower half.\n",
    "\n",
    "This is not elegant. Use a single loop to handle all situations.\n",
    "\n",
    "Add a method to check if it is out of range.\n",
    "\n",
    "\n",
    "\n",
    "```python\n",
    "for turn in range(0, (len(nums)-1)*2):\n",
    "    for y in range(0, turn):\n",
    "        x = turn - y\n",
    "        if x<len(nums) and y<len(nums):\n",
    "            listFinal.append(listNew[x][y])\n",
    "```\n",
    "\n",
    "\n",
    "\n",
    "We can add `-1` to empty cells then delete it so we don't need to check whether there exists elements at each cell.\n",
    "\n",
    "```python\n",
    "numsLen = len(nums)\n",
    "listNew = []\n",
    "for list in nums:\n",
    "    innerList = [None] * numsLen\n",
    "    i = 0\n",
    "    for num in list:\n",
    "        innerList[i] = list[i]\n",
    "        i += 1\n",
    "    for j in range(i, numsLen):\n",
    "        innerList[j] = -1\n",
    "    listNew.append(innerList)\n",
    "\n",
    "```\n",
    "\n",
    "So the final code is:"
   ]
  },
  {
   "cell_type": "code",
   "execution_count": null,
   "metadata": {},
   "outputs": [],
   "source": [
    "class Solution(object):\n",
    "    def findDiagonalOrder(self, nums):\n",
    "        # use a new list to represent a full matrix\n",
    "        # store -1 to empty cells\n",
    "        numsLen = len(nums)\n",
    "        listNew = []\n",
    "        for list in nums:\n",
    "            innerList = [None] * numsLen\n",
    "            i = 0\n",
    "            for num in list:\n",
    "                innerList[i] = num\n",
    "                i += 1\n",
    "            for j in range(i, numsLen):\n",
    "                innerList[j] = -1\n",
    "            listNew.append(innerList)\n",
    "        \n",
    "        # add them to a new list by order\n",
    "        listFinal = []\n",
    "        for turn in range(0, (len(nums)-1)*2):\n",
    "            for y in range(0, turn):\n",
    "                x = turn - y\n",
    "                if x<len(nums) and y<len(nums):\n",
    "                    listFinal.append(listNew[x][y])\n",
    "        \n",
    "        # delete all -1\n",
    "        while -1 in listFinal:\n",
    "            listFinal.remove(-1)"
   ]
  },
  {
   "cell_type": "markdown",
   "metadata": {},
   "source": [
    "Error: has no output\n",
    "\n",
    "Why: forgot to return `listFinal`"
   ]
  },
  {
   "cell_type": "markdown",
   "metadata": {},
   "source": [
    "Error: missing some elements\n",
    "\n"
   ]
  },
  {
   "cell_type": "markdown",
   "metadata": {},
   "source": [
    "## First Submit\n",
    "\n",
    "Failed: It can be a $n*m$ matrix\n",
    "\n",
    "Solution: refine the numsLen method"
   ]
  },
  {
   "cell_type": "code",
   "execution_count": null,
   "metadata": {},
   "outputs": [],
   "source": [
    "dim = len(nums)\n",
    "for list in nums:\n",
    "    if len(list) > dim:\n",
    "        dim = len(list)"
   ]
  },
  {
   "cell_type": "markdown",
   "metadata": {},
   "source": [
    "After some refactor, my code is:"
   ]
  },
  {
   "cell_type": "code",
   "execution_count": null,
   "metadata": {},
   "outputs": [],
   "source": [
    "class Solution(object):\n",
    "    def findDiagonalOrder(self, nums):\n",
    "        # use a new list to represent a full matrix\n",
    "        # store -1 to empty cells\n",
    "\n",
    "        # decide the dimention of new matrix\n",
    "        dim = len(nums)\n",
    "        for list in nums:\n",
    "            if len(list) > dim:\n",
    "                dim = len(list)\n",
    "\n",
    "        initialInnerList = [-1] * dim\n",
    "        listNew = [initialInnerList] * dim\n",
    "        \n",
    "        i = 0\n",
    "        for list in nums:\n",
    "            j = 0\n",
    "            for num in list:\n",
    "                listNew[i][j] = num\n",
    "                j += 1\n",
    "            i+= 1\n",
    "        \n",
    "        # add them to a new list by order\n",
    "        listFinal = []\n",
    "        for turn in range(0, 2*dim-1):\n",
    "            for y in range(0, turn+1):\n",
    "                x = turn - y\n",
    "                if x<dim and y<dim:\n",
    "                    listFinal.append(listNew[x][y])\n",
    "        \n",
    "        # delete all -1\n",
    "        while -1 in listFinal:\n",
    "            listFinal.remove(-1)\n",
    "\n",
    "        return listFinal"
   ]
  },
  {
   "cell_type": "markdown",
   "metadata": {},
   "source": [
    "and it does not pass the test now. The problem looks like: [7,7,8,7,8,9,8,9,9] this is my output.\n",
    "\n",
    "Why: \n",
    "\n",
    "> The issue might be with how you're initializing `listNew`. If you're initializing it with something like `listNew = [[0]*cols]*rows`, it will create a list of lists where all the inner lists are the same object. So, when you modify one row, all rows will be modified.\n",
    "> Instead, you should initialize `listNew` with a list comprehension to ensure that each row is a separate object.\n",
    "\n",
    "```python\n",
    "listNew = [[0 for _ in range(cols)] for _ in range(rows)]\n",
    "```"
   ]
  },
  {
   "cell_type": "code",
   "execution_count": null,
   "metadata": {},
   "outputs": [],
   "source": [
    "class Solution(object):\n",
    "    def findDiagonalOrder(self, nums):\n",
    "        # use a new list to represent a full matrix\n",
    "        # store -1 to empty cells\n",
    "\n",
    "        # decide the dimention of new matrix\n",
    "        dim = len(nums)\n",
    "        for list in nums:\n",
    "            if len(list) > dim:\n",
    "                dim = len(list)\n",
    "\n",
    "        listNew = [[-1 for _ in range(dim)] for _ in range(dim)]\n",
    "\n",
    "        i = 0\n",
    "        for list in nums:\n",
    "            j = 0\n",
    "            for num in list:\n",
    "                listNew[i][j] = num\n",
    "                j += 1\n",
    "            i+= 1\n",
    "        \n",
    "        # add them to a new list by order\n",
    "        listFinal = []\n",
    "        for turn in range(0, 2*dim-1):\n",
    "            for y in range(0, turn+1):\n",
    "                x = turn - y\n",
    "                if x<dim and y<dim:\n",
    "                    listFinal.append(listNew[x][y])\n",
    "        \n",
    "        # delete all -1\n",
    "        while -1 in listFinal:\n",
    "            listFinal.remove(-1)\n",
    "\n",
    "        return listFinal"
   ]
  },
  {
   "cell_type": "markdown",
   "metadata": {},
   "source": [
    "## Second Submit\n",
    "\n",
    "Works, but Time Limit Exceeded.\n",
    "\n",
    "Hint: Store them in tuples (sum, row, val), sort them, and then regroup the answer."
   ]
  },
  {
   "cell_type": "markdown",
   "metadata": {},
   "source": [
    "## What is tuple in python?\n",
    "\n"
   ]
  }
 ],
 "metadata": {
  "language_info": {
   "name": "python"
  }
 },
 "nbformat": 4,
 "nbformat_minor": 2
}
