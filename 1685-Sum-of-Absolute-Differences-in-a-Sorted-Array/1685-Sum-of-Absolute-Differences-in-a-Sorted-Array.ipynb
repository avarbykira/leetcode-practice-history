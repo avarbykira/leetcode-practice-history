{
 "cells": [
  {
   "cell_type": "markdown",
   "metadata": {},
   "source": [
    "# 1685. Sum of Absolute Differences in a Sorted Array ([Link](https://leetcode.com/problems/sum-of-absolute-differences-in-a-sorted-array/))\n",
    "\n",
    "You are given an integer array `nums` sorted in **non-decreasing** order.\n",
    "\n",
    "Build and return _an integer array_ `result` _with the same length as_ `nums` _such that_ `result[i]` _is equal to the **summation of absolute differences** between_ `nums[i]` _and all the other elements in the array._\n",
    "\n",
    "In other words, `result[i]` is equal to `sum(|nums[i]-nums[j]|)` where `0 <= j < nums.length` and `j != i` (**0-indexed**).\n",
    "\n",
    "**Example 1:**\n",
    "\n",
    "Input: nums = \\[2,3,5\\]\n",
    "\n",
    "Output: \\[4,3,5\\]\n",
    "\n",
    "Explanation: Assuming the arrays are 0-indexed, then\n",
    "result\\[0\\] = |2-2| + |2-3| + |2-5| = 0 + 1 + 3 = 4,\n",
    "result\\[1\\] = |3-2| + |3-3| + |3-5| = 1 + 0 + 2 = 3,\n",
    "result\\[2\\] = |5-2| + |5-3| + |5-5| = 3 + 2 + 0 = 5.\n",
    "\n",
    "**Example 2:**\n",
    "\n",
    "Input: nums = \\[1,4,6,8,10\\]\n",
    "\n",
    "Output: \\[24,15,13,15,21\\]\n",
    "\n",
    "**Constraints:**\n",
    "\n",
    "*   `2 <= nums.length <= 105`\n",
    "*   `1 <= nums[i] <= nums[i + 1] <= 104`\n"
   ]
  },
  {
   "cell_type": "code",
   "execution_count": null,
   "metadata": {},
   "outputs": [],
   "source": [
    "class Solution(object):\n",
    "    def getSumAbsoluteDifferences(self, nums):\n",
    "        \"\"\"\n",
    "        :type nums: List[int]\n",
    "        :rtype: List[int]\n",
    "        \"\"\"\n",
    "        l = len(nums)\n",
    "        disList = []\n",
    "        for i in range(0, l):\n",
    "            for j in range(i, l):\n",
    "                disList.append((i, j, abs(nums[i]-nums[j])))\n",
    "        \n",
    "        list = []\n",
    "        for i in range(0, l):\n",
    "            dis = 0\n",
    "            for d in disList:\n",
    "                if (d[0] == i or d[1] == i):\n",
    "                    dis += d[2]\n",
    "            list.append(dis)\n",
    "        \n",
    "        return list"
   ]
  },
  {
   "cell_type": "markdown",
   "metadata": {},
   "source": [
    "Worked, but exceeded memory limit.\n",
    "\n",
    "trying brute force way:"
   ]
  },
  {
   "cell_type": "code",
   "execution_count": null,
   "metadata": {},
   "outputs": [],
   "source": [
    "class Solution(object):\n",
    "    def getSumAbsoluteDifferences(self, nums):\n",
    "        l = len(nums)\n",
    "        list = []\n",
    "        for i in range(0, l):\n",
    "            dis = 0\n",
    "            for j in range(0, l):\n",
    "                if i<j:\n",
    "                    dis += nums[j] - nums[i]\n",
    "                else:\n",
    "                    dis += nums[i] - nums[j]\n",
    "            list.append(dis)\n",
    "            \n",
    "        return list"
   ]
  },
  {
   "cell_type": "markdown",
   "metadata": {},
   "source": [
    "Worked, but exceed time limit.\n",
    "\n",
    "**Hint:** For nums[i], the answer is `(nums[i] - nums[0]) + (nums[i] - nums[1]) + ... + (nums[i] - nums[i-1]) + (nums[i+1] - nums[i]) + (nums[i+2] - nums[i]) + ... + (nums[n-1] - nums[i])`. It can be simplified to `(nums[i] * i - (nums[0] + nums[1] + ... + nums[i-1])) + ((nums[i+1] + nums[i+2] + ... + nums[n-1]) - nums[i] * (n-i-1))`. One can build prefix and suffix sums to compute this quickly.\n",
    "\n"
   ]
  },
  {
   "cell_type": "code",
   "execution_count": null,
   "metadata": {},
   "outputs": [],
   "source": [
    "class Solution(object):\n",
    "    def getSum(self, nums, i, j):\n",
    "        sum = 0\n",
    "        for index in range(i, j):\n",
    "            sum += nums[index]\n",
    "        return sum\n",
    "    \n",
    "    def getSumAbsoluteDifferences(self, nums):\n",
    "        l = len(nums)\n",
    "        list = []\n",
    "        for i in range(0, l):\n",
    "            dis = (2*i-l)*nums[i] - self.getSum(nums, 0, i) + self.getSum(nums, i, l)\n",
    "            list.append(dis)\n",
    "            \n",
    "        return list"
   ]
  },
  {
   "cell_type": "markdown",
   "metadata": {},
   "source": [
    "Time limit Exceeded"
   ]
  },
  {
   "cell_type": "code",
   "execution_count": null,
   "metadata": {},
   "outputs": [],
   "source": [
    "# Copilot Generated\n",
    "class Solution(object):\n",
    "    def getSumAbsoluteDifferences(self, nums):\n",
    "        n = len(nums)\n",
    "        prefix_sum = [0] * n\n",
    "        suffix_sum = [0] * n\n",
    "\n",
    "        # Calculate prefix sum\n",
    "        prefix_sum[0] = nums[0]\n",
    "        for i in range(1, n):\n",
    "            prefix_sum[i] = prefix_sum[i-1] + nums[i]\n",
    "\n",
    "        # Calculate suffix sum\n",
    "        suffix_sum[n-1] = nums[n-1]\n",
    "        for i in range(n-2, -1, -1):\n",
    "            suffix_sum[i] = suffix_sum[i+1] + nums[i]\n",
    "\n",
    "        result = []\n",
    "        for i in range(n):\n",
    "            result.append((nums[i] * i - prefix_sum[i]) + (suffix_sum[i] - nums[i] * (n-i-1)))\n",
    "\n",
    "        return result\n"
   ]
  },
  {
   "cell_type": "markdown",
   "metadata": {},
   "source": [
    "## Overview\n",
    "\n",
    "- Why stick to one list if you can use as much as you like???"
   ]
  }
 ],
 "metadata": {
  "language_info": {
   "name": "python"
  }
 },
 "nbformat": 4,
 "nbformat_minor": 2
}
