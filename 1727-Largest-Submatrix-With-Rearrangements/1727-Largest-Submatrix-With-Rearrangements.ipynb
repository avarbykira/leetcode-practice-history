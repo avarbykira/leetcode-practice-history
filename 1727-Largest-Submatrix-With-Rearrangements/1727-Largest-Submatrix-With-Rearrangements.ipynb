{
 "cells": [
  {
   "cell_type": "code",
   "execution_count": null,
   "metadata": {},
   "outputs": [],
   "source": [
    "class Solution(object):\n",
    "    def largestSubmatrix(self, matrix):\n",
    "        \"\"\"\n",
    "        :type matrix: List[List[int]]\n",
    "        :rtype: int\n",
    "        \"\"\"\n",
    "        \n",
    "        # rearrange the list to column first\n",
    "        row = len(matrix)\n",
    "        col = len(matrix[0])\n",
    "        newMatrix = []\n",
    "        counter = []\n",
    "\n",
    "        for i in range(0, col):\n",
    "            count = 0\n",
    "            column = []\n",
    "            for list in matrix:\n",
    "                column.append(list[i])\n",
    "                if list[i] == 1:\n",
    "                    count += 1\n",
    "            counter.append((i, count))\n",
    "            newMatrix.append(column)\n",
    "        \n",
    "        # reorder the newMatrix\n",
    "        counter.sort(key=lambda x: x[1])\n",
    "        M = []\n",
    "        for c in counter:\n",
    "            M.append(newMatrix[c[0]])\n",
    "        \n",
    "        # find the largest square of 1s\n",
    "        \n",
    "        \n",
    "                "
   ]
  }
 ],
 "metadata": {
  "language_info": {
   "name": "python"
  }
 },
 "nbformat": 4,
 "nbformat_minor": 2
}
